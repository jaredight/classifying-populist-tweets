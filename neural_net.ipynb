{
  "nbformat": 4,
  "nbformat_minor": 0,
  "metadata": {
    "colab": {
      "name": "neural net.ipynb",
      "provenance": [],
      "collapsed_sections": []
    },
    "kernelspec": {
      "display_name": "Python 3",
      "name": "python3"
    }
  },
  "cells": [
    {
      "cell_type": "markdown",
      "metadata": {
        "id": "2ibLZZhfPjLV"
      },
      "source": [
        "contact jared with questions on this one\n",
        "\n",
        "jaredwright217@gmail.com"
      ]
    },
    {
      "cell_type": "code",
      "metadata": {
        "id": "Fs7MreZlLPcW",
        "colab": {
          "base_uri": "https://localhost:8080/"
        },
        "outputId": "0846200e-449b-4578-f7d6-f0c4d15e0c58"
      },
      "source": [
        "#mount google drive\n",
        "from google.colab import drive\n",
        "drive.mount('/content/gdrive')\n",
        "%cd '/content/gdrive/My Drive/Econ 484 Dream Team'\n"
      ],
      "execution_count": null,
      "outputs": [
        {
          "output_type": "stream",
          "text": [
            "Mounted at /content/gdrive\n",
            "/content/gdrive/My Drive/Econ 484 Dream Team\n"
          ],
          "name": "stdout"
        }
      ]
    },
    {
      "cell_type": "code",
      "metadata": {
        "id": "c5gcC7x2LpLL"
      },
      "source": [
        "#import some packages\n",
        "import pandas as pd\n",
        "import numpy as np\n",
        "\n",
        "from sklearn.feature_extraction.text import CountVectorizer\n",
        "from sklearn.ensemble import RandomForestClassifier\n",
        "from sklearn.model_selection import train_test_split\n",
        "from sklearn.metrics import accuracy_score\n",
        "\n",
        "from sklearn.neural_network import MLPClassifier\n",
        "from sklearn.model_selection import GridSearchCV\n",
        "from matplotlib import pyplot as plt"
      ],
      "execution_count": null,
      "outputs": []
    },
    {
      "cell_type": "code",
      "metadata": {
        "colab": {
          "base_uri": "https://localhost:8080/",
          "height": 248
        },
        "id": "KkAI3KW0Qrbf",
        "outputId": "95eef9b7-a5ad-48f2-f683-04387a9febe7"
      },
      "source": [
        "#read in data\n",
        "%cd '/content/gdrive/My Drive/Econ 484 Dream Team'\n",
        "tweets = pd.read_csv('/content/gdrive/My Drive/Econ 484 Dream Team/tweet_features.csv')\n",
        "tweets.head()"
      ],
      "execution_count": null,
      "outputs": [
        {
          "output_type": "stream",
          "text": [
            "[Errno 2] No such file or directory: '/content/gdrive/My Drive/Econ 484 Dream Team'\n",
            "/content\n"
          ],
          "name": "stdout"
        },
        {
          "output_type": "error",
          "ename": "NameError",
          "evalue": "ignored",
          "traceback": [
            "\u001b[0;31m---------------------------------------------------------------------------\u001b[0m",
            "\u001b[0;31mNameError\u001b[0m                                 Traceback (most recent call last)",
            "\u001b[0;32m<ipython-input-1-c0a91b795e41>\u001b[0m in \u001b[0;36m<module>\u001b[0;34m()\u001b[0m\n\u001b[1;32m      1\u001b[0m \u001b[0;31m#read in data\u001b[0m\u001b[0;34m\u001b[0m\u001b[0;34m\u001b[0m\u001b[0;34m\u001b[0m\u001b[0m\n\u001b[1;32m      2\u001b[0m \u001b[0mget_ipython\u001b[0m\u001b[0;34m(\u001b[0m\u001b[0;34m)\u001b[0m\u001b[0;34m.\u001b[0m\u001b[0mmagic\u001b[0m\u001b[0;34m(\u001b[0m\u001b[0;34m\"cd '/content/gdrive/My Drive/Econ 484 Dream Team'\"\u001b[0m\u001b[0;34m)\u001b[0m\u001b[0;34m\u001b[0m\u001b[0;34m\u001b[0m\u001b[0m\n\u001b[0;32m----> 3\u001b[0;31m \u001b[0mtweets\u001b[0m \u001b[0;34m=\u001b[0m \u001b[0mpd\u001b[0m\u001b[0;34m.\u001b[0m\u001b[0mread_csv\u001b[0m\u001b[0;34m(\u001b[0m\u001b[0;34m'/content/gdrive/My Drive/Econ 484 Dream Team/tweet_features.csv'\u001b[0m\u001b[0;34m)\u001b[0m\u001b[0;34m\u001b[0m\u001b[0;34m\u001b[0m\u001b[0m\n\u001b[0m\u001b[1;32m      4\u001b[0m \u001b[0mtweets\u001b[0m\u001b[0;34m.\u001b[0m\u001b[0mhead\u001b[0m\u001b[0;34m(\u001b[0m\u001b[0;34m)\u001b[0m\u001b[0;34m\u001b[0m\u001b[0;34m\u001b[0m\u001b[0m\n",
            "\u001b[0;31mNameError\u001b[0m: name 'pd' is not defined"
          ]
        }
      ]
    },
    {
      "cell_type": "code",
      "metadata": {
        "id": "QlJCV7ieQrYn"
      },
      "source": [
        "#split data into train and test sets\n",
        "X = tweets.drop(columns=['populism'])\n",
        "y = tweets['populism']\n",
        "\n",
        "X_train, X_test, y_train, y_test = train_test_split(X, y, test_size=0.33, random_state=24)    \n"
      ],
      "execution_count": null,
      "outputs": []
    },
    {
      "cell_type": "code",
      "metadata": {
        "colab": {
          "base_uri": "https://localhost:8080/"
        },
        "id": "7ZDJG_DuDBgw",
        "outputId": "944ec43b-818c-4789-f64c-e55f52b7551b"
      },
      "source": [
        "#check the dataframe for the number of populist tweets\n",
        "print(y.value_counts())"
      ],
      "execution_count": null,
      "outputs": [
        {
          "output_type": "stream",
          "text": [
            "False    1422\n",
            "True      355\n",
            "Name: populism, dtype: int64\n"
          ],
          "name": "stdout"
        }
      ]
    },
    {
      "cell_type": "code",
      "metadata": {
        "colab": {
          "base_uri": "https://localhost:8080/",
          "height": 285
        },
        "id": "N-qA5d9-z9pr",
        "outputId": "6cfc07e5-f080-45b6-ffff-12055f341c30"
      },
      "source": [
        "# I run a decision tree here just to see the visualize the data and make sure it looks as I expect it to.\n",
        "from sklearn.tree import DecisionTreeClassifier\n",
        "from sklearn import tree\n",
        "clf = DecisionTreeClassifier(max_depth=3, random_state=42)\n",
        "clf.fit(X_train, y_train)\n",
        "\n",
        "print(\"Accuracy on training set: {:.3f}\".format(clf.score(X_train, y_train)))\n",
        "print(\"Accuracy on test set: {:.3f}\".format(clf.score(X_test, y_test)))\n",
        "\n",
        "fig = plt.figure()\n",
        "_ = tree.plot_tree(clf, filled=True)\n",
        "plt.show()"
      ],
      "execution_count": null,
      "outputs": [
        {
          "output_type": "stream",
          "text": [
            "Accuracy on training set: 0.826\n",
            "Accuracy on test set: 0.799\n"
          ],
          "name": "stdout"
        },
        {
          "output_type": "display_data",
          "data": {
            "image/png": "[encoded data removed]",
            "text/plain": [
              "<Figure size 432x288 with 1 Axes>"
            ]
          },
          "metadata": {
            "tags": [],
            "needs_background": "light"
          }
        }
      ]
    },
    {
      "cell_type": "code",
      "metadata": {
        "colab": {
          "base_uri": "https://localhost:8080/"
        },
        "id": "LdcIG-DSQp9u",
        "outputId": "8681b361-fcbe-44ec-a45c-115cdb526c80"
      },
      "source": [
        "#The words chosen by the decision tree\n",
        "print(X.columns[212])\n",
        "print(X.columns[88], X.columns[37])\n",
        "print(X.columns[65], X.columns[10])\n"
      ],
      "execution_count": null,
      "outputs": [
        {
          "output_type": "stream",
          "text": [
            "media\n",
            "dirty center\n",
            "corrupt answer\n"
          ],
          "name": "stdout"
        }
      ]
    },
    {
      "cell_type": "code",
      "metadata": {
        "colab": {
          "base_uri": "https://localhost:8080/"
        },
        "id": "8UTUrREBNM8r",
        "outputId": "14ebb87d-3bb1-43f7-e1d1-400cf5a48b70"
      },
      "source": [
        "#we don't need to normalize data since the training data only has booleans\n",
        "print(X_train)\n",
        "print(y_train)"
      ],
      "execution_count": null,
      "outputs": [
        {
          "output_type": "stream",
          "text": [
            "      able  access  accompanied  according  ...  yes  yesterday  young  youth\n",
            "1663     0       0            0          0  ...    0          0      0      0\n",
            "799      0       0            0          0  ...    0          0      0      0\n",
            "1392     0       0            0          0  ...    0          0      0      0\n",
            "1406     0       0            0          0  ...    0          0      0      0\n",
            "1539     0       0            0          0  ...    0          0      0      0\n",
            "...    ...     ...          ...        ...  ...  ...        ...    ...    ...\n",
            "1425     0       0            0          0  ...    0          0      0      0\n",
            "343      0       0            0          0  ...    0          0      0      0\n",
            "192      0       0            0          0  ...    0          0      0      0\n",
            "899      0       0            0          0  ...    0          0      0      0\n",
            "418      0       0            0          0  ...    0          0      0      0\n",
            "\n",
            "[1190 rows x 402 columns]\n",
            "1663    False\n",
            "799     False\n",
            "1392    False\n",
            "1406    False\n",
            "1539    False\n",
            "        ...  \n",
            "1425    False\n",
            "343     False\n",
            "192     False\n",
            "899     False\n",
            "418      True\n",
            "Name: populism, Length: 1190, dtype: bool\n"
          ],
          "name": "stdout"
        }
      ]
    },
    {
      "cell_type": "code",
      "metadata": {
        "colab": {
          "base_uri": "https://localhost:8080/"
        },
        "id": "usG39XmvRIeb",
        "outputId": "e4f21f22-3274-4e27-ab1d-325f3a46ec65"
      },
      "source": [
        "#a basic net just to see how it does.\n",
        "net = MLPClassifier(solver='lbfgs', random_state=24)\n",
        "net.fit(X_train, y_train)\n",
        "\n",
        "print(net.score(X_test, y_test))\n",
        "#0.795% accuracy on the test set"
      ],
      "execution_count": null,
      "outputs": [
        {
          "output_type": "stream",
          "text": [
            "0.7512776831345827\n"
          ],
          "name": "stdout"
        }
      ]
    },
    {
      "cell_type": "code",
      "metadata": {
        "colab": {
          "base_uri": "https://localhost:8080/"
        },
        "id": "aAkSUGkBabDt",
        "outputId": "b9318ed6-77b9-41f6-e0f4-44d0514b5fd5"
      },
      "source": [
        "#this takes about 10 minutes to run.\n",
        "#the output is at the bottom of the cell.\n",
        "\n",
        "from sklearn.model_selection import RandomizedSearchCV\n",
        "\n",
        "random_grid = {\n",
        "    'hidden_layer_sizes': [(5,),(10,),(25,)],\n",
        "    'activation': ['relu'],\n",
        "    'solver': ['lbfgs', 'adam'],\n",
        "    'alpha': [.01, .05, .1, .5, 1, 5, 10],\n",
        "    'max_iter': [10000],\n",
        "    'early_stopping': [True, False],\n",
        "    'max_fun': [3000, 1500]\n",
        "}\n",
        "\n",
        "clf = MLPClassifier(random_state=24)\n",
        "clf_rand = RandomizedSearchCV(estimator = clf, param_distributions = random_grid,\n",
        "                               n_iter = 100, cv = 3, random_state=24)\n",
        "\n",
        "clf_rand.fit(X_train, y_train)\n",
        "print(clf_rand.best_params_)\n",
        "print('score on training set: {:.4f}'.format(clf_rand.score(X_train, y_train)))\n",
        "print('score on test set: {:.4f}'.format(clf_rand.score(X_test, y_test)))\n",
        "\n",
        "#[Parallel(n_jobs=1)]: Done 300 out of 300 | elapsed: 45.0min finished\n",
        "#{'solver': 'adam', 'max_iter': 2000, 'max_fun': 1500, 'hidden_layer_sizes': (10,), 'early_stopping': False, 'alpha': 0.5, 'activation': 'relu'}\n",
        "#'solver': 'adam', 'max_iter': 2000, 'max_fun': 1500, 'hidden_layer_sizes': (5,), 'early_stopping': False, 'alpha': 10, 'activation': 'relu'\n",
        "\n",
        "#most recent:\n",
        "#{'solver': 'adam', 'max_iter': 10000, 'max_fun': 1500, 'hidden_layer_sizes': (5,), 'early_stopping': False, 'alpha': 10, 'activation': 'relu'}\n",
        "#score on training set: 0.8092\n",
        "#score on test set: 0.7819"
      ],
      "execution_count": null,
      "outputs": [
        {
          "output_type": "stream",
          "text": [
            "/usr/local/lib/python3.6/dist-packages/sklearn/neural_network/_multilayer_perceptron.py:470: ConvergenceWarning: lbfgs failed to converge (status=1):\n",
            "STOP: TOTAL NO. of f AND g EVALUATIONS EXCEEDS LIMIT.\n",
            "\n",
            "Increase the number of iterations (max_iter) or scale the data as shown in:\n",
            "    https://scikit-learn.org/stable/modules/preprocessing.html\n",
            "  self.n_iter_ = _check_optimize_result(\"lbfgs\", opt_res, self.max_iter)\n",
            "/usr/local/lib/python3.6/dist-packages/sklearn/neural_network/_multilayer_perceptron.py:470: ConvergenceWarning: lbfgs failed to converge (status=1):\n",
            "STOP: TOTAL NO. of f AND g EVALUATIONS EXCEEDS LIMIT.\n",
            "\n",
            "Increase the number of iterations (max_iter) or scale the data as shown in:\n",
            "    https://scikit-learn.org/stable/modules/preprocessing.html\n",
            "  self.n_iter_ = _check_optimize_result(\"lbfgs\", opt_res, self.max_iter)\n",
            "/usr/local/lib/python3.6/dist-packages/sklearn/neural_network/_multilayer_perceptron.py:470: ConvergenceWarning: lbfgs failed to converge (status=1):\n",
            "STOP: TOTAL NO. of f AND g EVALUATIONS EXCEEDS LIMIT.\n",
            "\n",
            "Increase the number of iterations (max_iter) or scale the data as shown in:\n",
            "    https://scikit-learn.org/stable/modules/preprocessing.html\n",
            "  self.n_iter_ = _check_optimize_result(\"lbfgs\", opt_res, self.max_iter)\n",
            "/usr/local/lib/python3.6/dist-packages/sklearn/neural_network/_multilayer_perceptron.py:470: ConvergenceWarning: lbfgs failed to converge (status=1):\n",
            "STOP: TOTAL NO. of f AND g EVALUATIONS EXCEEDS LIMIT.\n",
            "\n",
            "Increase the number of iterations (max_iter) or scale the data as shown in:\n",
            "    https://scikit-learn.org/stable/modules/preprocessing.html\n",
            "  self.n_iter_ = _check_optimize_result(\"lbfgs\", opt_res, self.max_iter)\n",
            "/usr/local/lib/python3.6/dist-packages/sklearn/neural_network/_multilayer_perceptron.py:470: ConvergenceWarning: lbfgs failed to converge (status=1):\n",
            "STOP: TOTAL NO. of f AND g EVALUATIONS EXCEEDS LIMIT.\n",
            "\n",
            "Increase the number of iterations (max_iter) or scale the data as shown in:\n",
            "    https://scikit-learn.org/stable/modules/preprocessing.html\n",
            "  self.n_iter_ = _check_optimize_result(\"lbfgs\", opt_res, self.max_iter)\n",
            "/usr/local/lib/python3.6/dist-packages/sklearn/neural_network/_multilayer_perceptron.py:470: ConvergenceWarning: lbfgs failed to converge (status=1):\n",
            "STOP: TOTAL NO. of f AND g EVALUATIONS EXCEEDS LIMIT.\n",
            "\n",
            "Increase the number of iterations (max_iter) or scale the data as shown in:\n",
            "    https://scikit-learn.org/stable/modules/preprocessing.html\n",
            "  self.n_iter_ = _check_optimize_result(\"lbfgs\", opt_res, self.max_iter)\n",
            "/usr/local/lib/python3.6/dist-packages/sklearn/neural_network/_multilayer_perceptron.py:470: ConvergenceWarning: lbfgs failed to converge (status=1):\n",
            "STOP: TOTAL NO. of f AND g EVALUATIONS EXCEEDS LIMIT.\n",
            "\n",
            "Increase the number of iterations (max_iter) or scale the data as shown in:\n",
            "    https://scikit-learn.org/stable/modules/preprocessing.html\n",
            "  self.n_iter_ = _check_optimize_result(\"lbfgs\", opt_res, self.max_iter)\n",
            "/usr/local/lib/python3.6/dist-packages/sklearn/neural_network/_multilayer_perceptron.py:470: ConvergenceWarning: lbfgs failed to converge (status=1):\n",
            "STOP: TOTAL NO. of f AND g EVALUATIONS EXCEEDS LIMIT.\n",
            "\n",
            "Increase the number of iterations (max_iter) or scale the data as shown in:\n",
            "    https://scikit-learn.org/stable/modules/preprocessing.html\n",
            "  self.n_iter_ = _check_optimize_result(\"lbfgs\", opt_res, self.max_iter)\n",
            "/usr/local/lib/python3.6/dist-packages/sklearn/neural_network/_multilayer_perceptron.py:470: ConvergenceWarning: lbfgs failed to converge (status=1):\n",
            "STOP: TOTAL NO. of f AND g EVALUATIONS EXCEEDS LIMIT.\n",
            "\n",
            "Increase the number of iterations (max_iter) or scale the data as shown in:\n",
            "    https://scikit-learn.org/stable/modules/preprocessing.html\n",
            "  self.n_iter_ = _check_optimize_result(\"lbfgs\", opt_res, self.max_iter)\n",
            "/usr/local/lib/python3.6/dist-packages/sklearn/neural_network/_multilayer_perceptron.py:470: ConvergenceWarning: lbfgs failed to converge (status=1):\n",
            "STOP: TOTAL NO. of f AND g EVALUATIONS EXCEEDS LIMIT.\n",
            "\n",
            "Increase the number of iterations (max_iter) or scale the data as shown in:\n",
            "    https://scikit-learn.org/stable/modules/preprocessing.html\n",
            "  self.n_iter_ = _check_optimize_result(\"lbfgs\", opt_res, self.max_iter)\n",
            "/usr/local/lib/python3.6/dist-packages/sklearn/neural_network/_multilayer_perceptron.py:470: ConvergenceWarning: lbfgs failed to converge (status=1):\n",
            "STOP: TOTAL NO. of f AND g EVALUATIONS EXCEEDS LIMIT.\n",
            "\n",
            "Increase the number of iterations (max_iter) or scale the data as shown in:\n",
            "    https://scikit-learn.org/stable/modules/preprocessing.html\n",
            "  self.n_iter_ = _check_optimize_result(\"lbfgs\", opt_res, self.max_iter)\n"
          ],
          "name": "stderr"
        },
        {
          "output_type": "stream",
          "text": [
            "{'solver': 'adam', 'max_iter': 10000, 'max_fun': 1500, 'hidden_layer_sizes': (5,), 'early_stopping': False, 'alpha': 10, 'activation': 'relu'}\n",
            "score on training set: 0.8092\n",
            "score on test set: 0.7819\n"
          ],
          "name": "stdout"
        }
      ]
    },
    {
      "cell_type": "code",
      "metadata": {
        "colab": {
          "base_uri": "https://localhost:8080/"
        },
        "id": "t-BfzjsFT07V",
        "outputId": "55bf52fe-e901-4d7c-aa99-9e5674bab443"
      },
      "source": [
        "#another net to see how well the random_search parameters perform.\n",
        "net = MLPClassifier(solver='adam', max_iter=10000, max_fun= 1500, hidden_layer_sizes= (5,), early_stopping= False, alpha= 10, activation= 'relu', random_state=24)\n",
        "net.fit(X_train, y_train)\n",
        "\n",
        "print('score on training set: {:.4f}'.format(net.score(X_train, y_train)))\n",
        "print('score on test set: {:.4f}'.format(net.score(X_test, y_test)))\n",
        "#{'solver': 'adam', 'max_iter': 2000, 'max_fun': 1500, 'hidden_layer_sizes': (10,), 'early_stopping': False, 'alpha': 0.5, 'activation': 'relu'}\n",
        "\n",
        "#score on training set: 0.8092\n",
        "#score on test set: 0.7819"
      ],
      "execution_count": null,
      "outputs": [
        {
          "output_type": "stream",
          "text": [
            "score on training set: 0.8092\n",
            "score on test set: 0.7819\n"
          ],
          "name": "stdout"
        }
      ]
    },
    {
      "cell_type": "code",
      "metadata": {
        "colab": {
          "base_uri": "https://localhost:8080/"
        },
        "id": "t2GQCfKGUlvA",
        "outputId": "b499610b-aae9-4ad4-cf91-9e4c344bdcf1"
      },
      "source": [
        "#This parameter grid is refining further the randomized search output. \n",
        "#{'solver': 'adam', 'max_iter': 2000, 'max_fun': 1500, 'hidden_layer_sizes': (10,), 'early_stopping': False, 'alpha': 0.5, 'activation': 'relu'}\n",
        "param_grid = {\n",
        "    'hidden_layer_sizes': [(3,),(4,),(5,),(6,),(7,)],\n",
        "    'activation': ['relu'],\n",
        "    'solver': ['adam'],\n",
        "    'alpha': [2,3,4],\n",
        "    'max_iter': [10000],\n",
        "    'early_stopping': [False],\n",
        "    'max_fun': [1000, 1500, 2000]\n",
        "}\n",
        "\n",
        "netsearch = MLPClassifier()\n",
        "# grid search model with 3 folds\n",
        "grid_search = GridSearchCV(estimator=netsearch, param_grid=param_grid, cv=3)\n",
        "grid_search.fit(X_train, y_train)\n",
        "print(grid_search.best_params_)\n",
        "\n",
        "#{'activation': 'relu', 'alpha': 0.2, 'early_stopping': False, 'hidden_layer_sizes': (5,), 'max_fun': 1500, 'max_iter': 10000, 'solver': 'adam'}\n",
        "#{'activation': 'relu', 'alpha': 7, 'early_stopping': False, 'hidden_layer_sizes': (4,), 'max_fun': 1500, 'max_iter': 10000, 'solver': 'adam'}\n",
        "#{'activation': 'relu', 'alpha': 3, 'early_stopping': False, 'hidden_layer_sizes': (5,), 'max_fun': 1500, 'max_iter': 10000, 'solver': 'adam'}\n",
        "print(\"Accuracy on training set: {:.3f}\".format(grid_search.score(X_train, y_train)))\n",
        "print(\"Accuracy on test set: {:.4f}\".format(grid_search.score(X_test, y_test)))\n",
        "\n",
        "\n",
        "#most recent:\n",
        "#{'activation': 'relu', 'alpha': 2, 'early_stopping': False, 'hidden_layer_sizes': (3,), 'max_fun': 1500, 'max_iter': 10000, 'solver': 'adam'}\n",
        "#Accuracy on training set: 0.870\n",
        "#Accuracy on test set: 0.8041"
      ],
      "execution_count": null,
      "outputs": [
        {
          "output_type": "stream",
          "text": [
            "{'activation': 'relu', 'alpha': 2, 'early_stopping': False, 'hidden_layer_sizes': (3,), 'max_fun': 1500, 'max_iter': 10000, 'solver': 'adam'}\n",
            "Accuracy on training set: 0.870\n",
            "Accuracy on test set: 0.8041\n"
          ],
          "name": "stdout"
        }
      ]
    },
    {
      "cell_type": "code",
      "metadata": {
        "colab": {
          "base_uri": "https://localhost:8080/"
        },
        "id": "GbS502tsJbI4",
        "outputId": "9214b049-1a82-4b26-ae12-41aa8fc08c66"
      },
      "source": [
        "#making a net with the ideal parameters \n",
        "net = MLPClassifier(hidden_layer_sizes=(3,), activation='relu', alpha=3, early_stopping=False, max_fun=1000, max_iter=10000, solver='adam')\n",
        "net.fit(X_train, y_train)\n",
        "print(\"Accuracy on training set: {:.3f}\".format(net.score(X_train, y_train)))\n",
        "print(\"Accuracy on test set: {:.4f}\".format(net.score(X_test, y_test)))"
      ],
      "execution_count": null,
      "outputs": [
        {
          "output_type": "stream",
          "text": [
            "Accuracy on training set: 0.840\n",
            "Accuracy on test set: 0.7990\n"
          ],
          "name": "stdout"
        }
      ]
    },
    {
      "cell_type": "code",
      "metadata": {
        "colab": {
          "base_uri": "https://localhost:8080/",
          "height": 297
        },
        "id": "zgS0RGwBJ9yl",
        "outputId": "e0b7fa1c-06b6-4bb5-d5d6-6b1783398b4e"
      },
      "source": [
        "#plot a confusion matrix here\n",
        "from sklearn.metrics import plot_confusion_matrix\n",
        "from sklearn.metrics import ConfusionMatrixDisplay\n",
        "gg = plot_confusion_matrix(net, X_test, y_test)\n",
        "ConfusionMatrixDisplay(gg, display_labels=True)\n"
      ],
      "execution_count": null,
      "outputs": [
        {
          "output_type": "execute_result",
          "data": {
            "text/plain": [
              "<sklearn.metrics._plot.confusion_matrix.ConfusionMatrixDisplay at 0x7fb71a296208>"
            ]
          },
          "metadata": {
            "tags": []
          },
          "execution_count": 14
        },
        {
          "output_type": "display_data",
          "data": {
            "image/png": "[encoded data removed]",
            "text/plain": [
              "<Figure size 432x288 with 2 Axes>"
            ]
          },
          "metadata": {
            "tags": [],
            "needs_background": "light"
          }
        }
      ]
    },
    {
      "cell_type": "code",
      "metadata": {
        "id": "rfsJC2L6La38",
        "colab": {
          "base_uri": "https://localhost:8080/"
        },
        "outputId": "0680f536-6523-4af8-9443-3574cd376561"
      },
      "source": [
        "#the numbers from the confusion matrix\n",
        "from sklearn.metrics import confusion_matrix\n",
        "print(confusion_matrix(y_test, net.predict(X_test)))"
      ],
      "execution_count": null,
      "outputs": [
        {
          "output_type": "stream",
          "text": [
            "[[459   0]\n",
            " [118  10]]\n"
          ],
          "name": "stdout"
        }
      ]
    },
    {
      "cell_type": "code",
      "metadata": {
        "colab": {
          "base_uri": "https://localhost:8080/",
          "height": 295
        },
        "id": "kOsy-0wDCrRy",
        "outputId": "d3e6a708-bfa2-4792-a78e-c32a09423fc9"
      },
      "source": [
        "#a ROC curve\n",
        "from sklearn import metrics\n",
        "metrics.plot_roc_curve(net, X_test, y_test) \n",
        "plt.title('Unbalanced Model ROC')\n",
        "plt.legend(loc = 'lower right')\n",
        "plt.ylabel('True Positive Rate')\n",
        "plt.xlabel('False Positive Rate')\n",
        "plt.show()"
      ],
      "execution_count": null,
      "outputs": [
        {
          "output_type": "display_data",
          "data": {
            "image/png": "[encoded data removed]",
            "text/plain": [
              "<Figure size 432x288 with 1 Axes>"
            ]
          },
          "metadata": {
            "tags": [],
            "needs_background": "light"
          }
        }
      ]
    }
  ]
}